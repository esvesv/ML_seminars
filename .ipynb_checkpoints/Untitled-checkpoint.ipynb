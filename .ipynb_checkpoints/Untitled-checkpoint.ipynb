{
 "cells": [
  {
   "cell_type": "code",
   "execution_count": 24,
   "id": "72e07511",
   "metadata": {},
   "outputs": [],
   "source": [
    "from sklearn.datasets import make_classification\n",
    "import numpy as np\n",
    "\n",
    "def fetch_dataset():\n",
    "    return make_classification(n_samples=1000, n_features=10,\n",
    "                               n_informative=5, n_classes=2,\n",
    "                               weights=[0.6, 0.4], flip_y=0.02,\n",
    "                               random_state=13)\n",
    "\n",
    "class BlackBoxMethod:\n",
    "    def __init__(self, label=0):\n",
    "        self.label = label\n",
    "    def fit(self, X, y):\n",
    "        return self\n",
    "    def predict(self, X):\n",
    "        n = X.shape[0]\n",
    "        if self.label == 1:\n",
    "            return np.ones(n, dtype=int)\n",
    "        else:\n",
    "            return np.zeros(n, dtype=int)\n",
    "    def predict_proba(self, X):\n",
    "        n = X.shape[0]\n",
    "        np.random.seed(13)\n",
    "        if self.label == 1:\n",
    "            return np.random.uniform(0.51, 0.99, size=n)\n",
    "        else:\n",
    "            return np.random.uniform(0.01, 0.49, size=n)"
   ]
  },
  {
   "cell_type": "code",
   "execution_count": 25,
   "id": "2bb3dc35",
   "metadata": {},
   "outputs": [],
   "source": [
    "X, y = fetch_dataset()"
   ]
  },
  {
   "cell_type": "code",
   "execution_count": 26,
   "id": "125b5acc",
   "metadata": {},
   "outputs": [],
   "source": [
    "import numpy as np\n",
    "import pandas as pd\n",
    "# from clf_utils import BlackBoxMethod, fetch_dataset # если есть доступ к файлу, раскомментить\n",
    "import matplotlib.pyplot as plt\n",
    "from sklearn.metrics import (accuracy_score, precision_score, recall_score,\n",
    "                             f1_score, roc_auc_score, roc_curve, auc,\n",
    "                             classification_report)\n",
    "from sklearn.model_selection import train_test_split"
   ]
  },
  {
   "cell_type": "code",
   "execution_count": 27,
   "id": "e4d09c7d",
   "metadata": {},
   "outputs": [],
   "source": [
    "X_train, X_test, y_train, y_test = train_test_split(X, y, stratify=y, random_state=13)"
   ]
  },
  {
   "cell_type": "code",
   "execution_count": 28,
   "id": "d7fc2707",
   "metadata": {},
   "outputs": [],
   "source": [
    "model = BlackBoxMethod()"
   ]
  },
  {
   "cell_type": "code",
   "execution_count": 50,
   "id": "4aeeb1af",
   "metadata": {
    "scrolled": true
   },
   "outputs": [
    {
     "data": {
      "text/plain": [
       "<__main__.BlackBoxMethod at 0x29d5d40fac0>"
      ]
     },
     "execution_count": 50,
     "metadata": {},
     "output_type": "execute_result"
    }
   ],
   "source": [
    "# model.fit(X_train, y_train)"
   ]
  },
  {
   "cell_type": "code",
   "execution_count": 29,
   "id": "c0f487d4",
   "metadata": {},
   "outputs": [],
   "source": [
    "y_pred = model.predict(X_test)"
   ]
  },
  {
   "cell_type": "code",
   "execution_count": 30,
   "id": "f480d9b9",
   "metadata": {},
   "outputs": [
    {
     "data": {
      "text/plain": [
       "array([0, 0, 0, 0, 0, 0, 0, 0, 0, 0, 0, 0, 0, 0, 0, 0, 0, 0, 0, 0, 0, 0,\n",
       "       0, 0, 0, 0, 0, 0, 0, 0, 0, 0, 0, 0, 0, 0, 0, 0, 0, 0, 0, 0, 0, 0,\n",
       "       0, 0, 0, 0, 0, 0, 0, 0, 0, 0, 0, 0, 0, 0, 0, 0, 0, 0, 0, 0, 0, 0,\n",
       "       0, 0, 0, 0, 0, 0, 0, 0, 0, 0, 0, 0, 0, 0, 0, 0, 0, 0, 0, 0, 0, 0,\n",
       "       0, 0, 0, 0, 0, 0, 0, 0, 0, 0, 0, 0, 0, 0, 0, 0, 0, 0, 0, 0, 0, 0,\n",
       "       0, 0, 0, 0, 0, 0, 0, 0, 0, 0, 0, 0, 0, 0, 0, 0, 0, 0, 0, 0, 0, 0,\n",
       "       0, 0, 0, 0, 0, 0, 0, 0, 0, 0, 0, 0, 0, 0, 0, 0, 0, 0, 0, 0, 0, 0,\n",
       "       0, 0, 0, 0, 0, 0, 0, 0, 0, 0, 0, 0, 0, 0, 0, 0, 0, 0, 0, 0, 0, 0,\n",
       "       0, 0, 0, 0, 0, 0, 0, 0, 0, 0, 0, 0, 0, 0, 0, 0, 0, 0, 0, 0, 0, 0,\n",
       "       0, 0, 0, 0, 0, 0, 0, 0, 0, 0, 0, 0, 0, 0, 0, 0, 0, 0, 0, 0, 0, 0,\n",
       "       0, 0, 0, 0, 0, 0, 0, 0, 0, 0, 0, 0, 0, 0, 0, 0, 0, 0, 0, 0, 0, 0,\n",
       "       0, 0, 0, 0, 0, 0, 0, 0])"
      ]
     },
     "execution_count": 30,
     "metadata": {},
     "output_type": "execute_result"
    }
   ],
   "source": [
    "y_pred"
   ]
  },
  {
   "cell_type": "code",
   "execution_count": 31,
   "id": "903794de",
   "metadata": {},
   "outputs": [
    {
     "data": {
      "text/plain": [
       "0.604"
      ]
     },
     "execution_count": 31,
     "metadata": {},
     "output_type": "execute_result"
    }
   ],
   "source": [
    "accuracy_score(y_test, y_pred)"
   ]
  },
  {
   "cell_type": "code",
   "execution_count": 32,
   "id": "dc8656af",
   "metadata": {},
   "outputs": [
    {
     "data": {
      "text/plain": [
       "(array([  0.,   0.,   0.,   0.,   0., 250.,   0.,   0.,   0.,   0.]),\n",
       " array([-0.5, -0.4, -0.3, -0.2, -0.1,  0. ,  0.1,  0.2,  0.3,  0.4,  0.5]),\n",
       " <BarContainer object of 10 artists>)"
      ]
     },
     "execution_count": 32,
     "metadata": {},
     "output_type": "execute_result"
    },
    {
     "data": {
      "image/png": "[encoded data removed]",
      "text/plain": [
       "<Figure size 640x480 with 1 Axes>"
      ]
     },
     "metadata": {},
     "output_type": "display_data"
    }
   ],
   "source": [
    "plt.hist(y_pred)"
   ]
  },
  {
   "cell_type": "code",
   "execution_count": 33,
   "id": "943a3259",
   "metadata": {},
   "outputs": [
    {
     "data": {
      "text/html": [
       "<div>\n",
       "<style scoped>\n",
       "    .dataframe tbody tr th:only-of-type {\n",
       "        vertical-align: middle;\n",
       "    }\n",
       "\n",
       "    .dataframe tbody tr th {\n",
       "        vertical-align: top;\n",
       "    }\n",
       "\n",
       "    .dataframe thead th {\n",
       "        text-align: right;\n",
       "    }\n",
       "</style>\n",
       "<table border=\"1\" class=\"dataframe\">\n",
       "  <thead>\n",
       "    <tr style=\"text-align: right;\">\n",
       "      <th></th>\n",
       "      <th>0</th>\n",
       "      <th>1</th>\n",
       "      <th>2</th>\n",
       "      <th>3</th>\n",
       "      <th>4</th>\n",
       "      <th>5</th>\n",
       "      <th>6</th>\n",
       "      <th>7</th>\n",
       "      <th>8</th>\n",
       "      <th>9</th>\n",
       "      <th>target</th>\n",
       "    </tr>\n",
       "  </thead>\n",
       "  <tbody>\n",
       "    <tr>\n",
       "      <th>0</th>\n",
       "      <td>-1.682723</td>\n",
       "      <td>-0.420621</td>\n",
       "      <td>1.053941</td>\n",
       "      <td>-1.164464</td>\n",
       "      <td>1.038720</td>\n",
       "      <td>-1.345127</td>\n",
       "      <td>-0.079792</td>\n",
       "      <td>1.292144</td>\n",
       "      <td>-1.683843</td>\n",
       "      <td>-1.179193</td>\n",
       "      <td>0</td>\n",
       "    </tr>\n",
       "    <tr>\n",
       "      <th>1</th>\n",
       "      <td>-0.558655</td>\n",
       "      <td>-0.108590</td>\n",
       "      <td>-2.603669</td>\n",
       "      <td>0.642744</td>\n",
       "      <td>1.624002</td>\n",
       "      <td>-0.283288</td>\n",
       "      <td>-1.200055</td>\n",
       "      <td>-1.648232</td>\n",
       "      <td>-0.245065</td>\n",
       "      <td>-2.117169</td>\n",
       "      <td>1</td>\n",
       "    </tr>\n",
       "    <tr>\n",
       "      <th>2</th>\n",
       "      <td>-1.753597</td>\n",
       "      <td>0.054681</td>\n",
       "      <td>2.204839</td>\n",
       "      <td>-1.678364</td>\n",
       "      <td>-1.538747</td>\n",
       "      <td>-0.353797</td>\n",
       "      <td>-0.051326</td>\n",
       "      <td>-0.877180</td>\n",
       "      <td>0.388434</td>\n",
       "      <td>-1.451511</td>\n",
       "      <td>1</td>\n",
       "    </tr>\n",
       "    <tr>\n",
       "      <th>3</th>\n",
       "      <td>-1.052235</td>\n",
       "      <td>-0.775449</td>\n",
       "      <td>2.805848</td>\n",
       "      <td>-0.361568</td>\n",
       "      <td>0.686706</td>\n",
       "      <td>1.378523</td>\n",
       "      <td>0.431981</td>\n",
       "      <td>1.326286</td>\n",
       "      <td>-2.474869</td>\n",
       "      <td>2.220255</td>\n",
       "      <td>0</td>\n",
       "    </tr>\n",
       "    <tr>\n",
       "      <th>4</th>\n",
       "      <td>-2.976320</td>\n",
       "      <td>0.906695</td>\n",
       "      <td>5.834381</td>\n",
       "      <td>-3.854871</td>\n",
       "      <td>-0.365017</td>\n",
       "      <td>0.022909</td>\n",
       "      <td>2.221662</td>\n",
       "      <td>-0.073961</td>\n",
       "      <td>-3.007411</td>\n",
       "      <td>-0.666082</td>\n",
       "      <td>1</td>\n",
       "    </tr>\n",
       "    <tr>\n",
       "      <th>...</th>\n",
       "      <td>...</td>\n",
       "      <td>...</td>\n",
       "      <td>...</td>\n",
       "      <td>...</td>\n",
       "      <td>...</td>\n",
       "      <td>...</td>\n",
       "      <td>...</td>\n",
       "      <td>...</td>\n",
       "      <td>...</td>\n",
       "      <td>...</td>\n",
       "      <td>...</td>\n",
       "    </tr>\n",
       "    <tr>\n",
       "      <th>745</th>\n",
       "      <td>2.058746</td>\n",
       "      <td>1.344729</td>\n",
       "      <td>1.410951</td>\n",
       "      <td>-0.828018</td>\n",
       "      <td>-2.292511</td>\n",
       "      <td>0.003377</td>\n",
       "      <td>-1.324452</td>\n",
       "      <td>2.237552</td>\n",
       "      <td>2.681795</td>\n",
       "      <td>2.551616</td>\n",
       "      <td>1</td>\n",
       "    </tr>\n",
       "    <tr>\n",
       "      <th>746</th>\n",
       "      <td>1.531150</td>\n",
       "      <td>-1.347376</td>\n",
       "      <td>-0.667324</td>\n",
       "      <td>1.415249</td>\n",
       "      <td>-1.786098</td>\n",
       "      <td>-0.262825</td>\n",
       "      <td>-1.763140</td>\n",
       "      <td>-1.380123</td>\n",
       "      <td>2.595462</td>\n",
       "      <td>2.065560</td>\n",
       "      <td>1</td>\n",
       "    </tr>\n",
       "    <tr>\n",
       "      <th>747</th>\n",
       "      <td>0.111602</td>\n",
       "      <td>-0.670878</td>\n",
       "      <td>4.191571</td>\n",
       "      <td>-1.770414</td>\n",
       "      <td>-1.893658</td>\n",
       "      <td>1.146616</td>\n",
       "      <td>1.576549</td>\n",
       "      <td>-0.893376</td>\n",
       "      <td>-0.221572</td>\n",
       "      <td>2.239864</td>\n",
       "      <td>0</td>\n",
       "    </tr>\n",
       "    <tr>\n",
       "      <th>748</th>\n",
       "      <td>0.257881</td>\n",
       "      <td>-1.401277</td>\n",
       "      <td>0.350062</td>\n",
       "      <td>1.827112</td>\n",
       "      <td>-1.335491</td>\n",
       "      <td>-0.024388</td>\n",
       "      <td>-1.755454</td>\n",
       "      <td>0.421531</td>\n",
       "      <td>1.134026</td>\n",
       "      <td>2.632937</td>\n",
       "      <td>1</td>\n",
       "    </tr>\n",
       "    <tr>\n",
       "      <th>749</th>\n",
       "      <td>-1.499358</td>\n",
       "      <td>0.213673</td>\n",
       "      <td>2.241353</td>\n",
       "      <td>-2.680936</td>\n",
       "      <td>0.070510</td>\n",
       "      <td>0.543093</td>\n",
       "      <td>-1.419959</td>\n",
       "      <td>-1.362902</td>\n",
       "      <td>-0.497922</td>\n",
       "      <td>-1.030952</td>\n",
       "      <td>0</td>\n",
       "    </tr>\n",
       "  </tbody>\n",
       "</table>\n",
       "<p>750 rows × 11 columns</p>\n",
       "</div>"
      ],
      "text/plain": [
       "            0         1         2         3         4         5         6  \\\n",
       "0   -1.682723 -0.420621  1.053941 -1.164464  1.038720 -1.345127 -0.079792   \n",
       "1   -0.558655 -0.108590 -2.603669  0.642744  1.624002 -0.283288 -1.200055   \n",
       "2   -1.753597  0.054681  2.204839 -1.678364 -1.538747 -0.353797 -0.051326   \n",
       "3   -1.052235 -0.775449  2.805848 -0.361568  0.686706  1.378523  0.431981   \n",
       "4   -2.976320  0.906695  5.834381 -3.854871 -0.365017  0.022909  2.221662   \n",
       "..        ...       ...       ...       ...       ...       ...       ...   \n",
       "745  2.058746  1.344729  1.410951 -0.828018 -2.292511  0.003377 -1.324452   \n",
       "746  1.531150 -1.347376 -0.667324  1.415249 -1.786098 -0.262825 -1.763140   \n",
       "747  0.111602 -0.670878  4.191571 -1.770414 -1.893658  1.146616  1.576549   \n",
       "748  0.257881 -1.401277  0.350062  1.827112 -1.335491 -0.024388 -1.755454   \n",
       "749 -1.499358  0.213673  2.241353 -2.680936  0.070510  0.543093 -1.419959   \n",
       "\n",
       "            7         8         9  target  \n",
       "0    1.292144 -1.683843 -1.179193       0  \n",
       "1   -1.648232 -0.245065 -2.117169       1  \n",
       "2   -0.877180  0.388434 -1.451511       1  \n",
       "3    1.326286 -2.474869  2.220255       0  \n",
       "4   -0.073961 -3.007411 -0.666082       1  \n",
       "..        ...       ...       ...     ...  \n",
       "745  2.237552  2.681795  2.551616       1  \n",
       "746 -1.380123  2.595462  2.065560       1  \n",
       "747 -0.893376 -0.221572  2.239864       0  \n",
       "748  0.421531  1.134026  2.632937       1  \n",
       "749 -1.362902 -0.497922 -1.030952       0  \n",
       "\n",
       "[750 rows x 11 columns]"
      ]
     },
     "execution_count": 33,
     "metadata": {},
     "output_type": "execute_result"
    }
   ],
   "source": [
    "df = pd.DataFrame(X_train)\n",
    "df['target'] = y_train\n",
    "df"
   ]
  },
  {
   "cell_type": "code",
   "execution_count": 34,
   "id": "368e4e66",
   "metadata": {},
   "outputs": [
    {
     "data": {
      "text/plain": [
       "0    0.602667\n",
       "1    0.397333\n",
       "Name: target, dtype: float64"
      ]
     },
     "execution_count": 34,
     "metadata": {},
     "output_type": "execute_result"
    }
   ],
   "source": [
    "df.target.value_counts(normalize=True)"
   ]
  },
  {
   "cell_type": "code",
   "execution_count": 35,
   "id": "cbdff1ae",
   "metadata": {
    "scrolled": true
   },
   "outputs": [
    {
     "data": {
      "text/plain": [
       "<AxesSubplot:title={'center':'Count (target)'}>"
      ]
     },
     "execution_count": 35,
     "metadata": {},
     "output_type": "execute_result"
    },
    {
     "data": {
      "image/png": "[encoded data removed]",
      "text/plain": [
       "<Figure size 640x480 with 1 Axes>"
      ]
     },
     "metadata": {},
     "output_type": "display_data"
    }
   ],
   "source": [
    "df.target.value_counts().plot(kind='bar', title='Count (target)', color = ['b', 'g'])"
   ]
  },
  {
   "cell_type": "code",
   "execution_count": 37,
   "id": "ce6fa00d",
   "metadata": {},
   "outputs": [
    {
     "name": "stdout",
     "output_type": "stream",
     "text": [
      "Precision: 0.0\n",
      "Recall: 0.0\n",
      "F1 score: 0.0\n"
     ]
    },
    {
     "name": "stderr",
     "output_type": "stream",
     "text": [
      "C:\\Users\\evstr\\anaconda3\\envs\\Python_3_10_6\\lib\\site-packages\\sklearn\\metrics\\_classification.py:1334: UndefinedMetricWarning: Precision is ill-defined and being set to 0.0 due to no predicted samples. Use `zero_division` parameter to control this behavior.\n",
      "  _warn_prf(average, modifier, msg_start, len(result))\n"
     ]
    }
   ],
   "source": [
    "print('Precision:', precision_score(y_test, y_pred))\n",
    "print('Recall:', recall_score(y_test, y_pred))\n",
    "print('F1 score:', f1_score(y_test, y_pred))"
   ]
  },
  {
   "cell_type": "code",
   "execution_count": 52,
   "id": "c7f1d558",
   "metadata": {},
   "outputs": [
    {
     "data": {
      "text/plain": [
       "<matplotlib.legend.Legend at 0x22b920b4220>"
      ]
     },
     "execution_count": 52,
     "metadata": {},
     "output_type": "execute_result"
    },
    {
     "data": {
      "image/png": "[encoded data removed]",
      "text/plain": [
       "<Figure size 640x480 with 1 Axes>"
      ]
     },
     "metadata": {},
     "output_type": "display_data"
    }
   ],
   "source": [
    "fpr, tpr, thresholds = roc_curve(y_test, model.predict_proba(X_test))\n",
    "plt.plot(fpr, tpr, color=\"darkorange\", label=f\"ROC curve (area = {auc(fpr, tpr):0.3f})\")\n",
    "plt.plot([0, 1], [0, 1], color=\"navy\", linestyle=\"--\")\n",
    "plt.legend()"
   ]
  },
  {
   "cell_type": "code",
   "execution_count": null,
   "id": "0c7b328f",
   "metadata": {},
   "outputs": [],
   "source": []
  }
 ],
 "metadata": {
  "kernelspec": {
   "display_name": "Python 3 (ipykernel)",
   "language": "python",
   "name": "python3"
  },
  "language_info": {
   "codemirror_mode": {
    "name": "ipython",
    "version": 3
   },
   "file_extension": ".py",
   "mimetype": "text/x-python",
   "name": "python",
   "nbconvert_exporter": "python",
   "pygments_lexer": "ipython3",
   "version": "3.10.6"
  }
 },
 "nbformat": 4,
 "nbformat_minor": 5
}
