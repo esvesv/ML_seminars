{
 "cells": [
  {
   "cell_type": "markdown",
   "id": "41e1999a",
   "metadata": {},
   "source": [
    "**1.\n",
    "Напишите функцию, которая будет получать на вход произвольную строку, отбирать только числа, затем складывать их, результат делить на 3,5 и выводить результат, округленный до двух знаков после запятой.**\n",
    "\n",
    "string1 = 'abcdE1435fgGfeDc 56ba'\n",
    "\n",
    "string2 = 'lkjdagkljhfiug;ro;eigj'\n",
    "\n",
    "string3 = '98465348948129845983'"
   ]
  },
  {
   "cell_type": "code",
   "execution_count": 29,
   "id": "d560c681",
   "metadata": {},
   "outputs": [],
   "source": [
    "string1 = 'abcdE1435fgGfeDc 56ba'\n",
    "string2 = 'lkjdagkljhfiug;ro;eigj'\n",
    "string3 = '98465348948129845983'"
   ]
  },
  {
   "cell_type": "code",
   "execution_count": 52,
   "id": "b12cf8cb",
   "metadata": {},
   "outputs": [],
   "source": [
    "def my_func(string):\n",
    "    return round(sum((int(x) for x in string if x.isdigit())) / 3.5, 2)"
   ]
  },
  {
   "cell_type": "code",
   "execution_count": 53,
   "id": "f68c1d43",
   "metadata": {},
   "outputs": [
    {
     "data": {
      "text/plain": [
       "6.86"
      ]
     },
     "execution_count": 53,
     "metadata": {},
     "output_type": "execute_result"
    }
   ],
   "source": [
    "my_func(string1)"
   ]
  },
  {
   "cell_type": "code",
   "execution_count": 54,
   "id": "0325fa86",
   "metadata": {},
   "outputs": [
    {
     "data": {
      "text/plain": [
       "0.0"
      ]
     },
     "execution_count": 54,
     "metadata": {},
     "output_type": "execute_result"
    }
   ],
   "source": [
    "my_func(string2)"
   ]
  },
  {
   "cell_type": "code",
   "execution_count": 55,
   "id": "02ef9ef4",
   "metadata": {
    "scrolled": true
   },
   "outputs": [
    {
     "data": {
      "text/plain": [
       "33.43"
      ]
     },
     "execution_count": 55,
     "metadata": {},
     "output_type": "execute_result"
    }
   ],
   "source": [
    "my_func(string3)"
   ]
  },
  {
   "cell_type": "markdown",
   "id": "5d8e66bb",
   "metadata": {},
   "source": [
    "**2.  from sklearn.datasets import load_breast_cancer as dataset**\n",
    "\n",
    "1. Разделите DataFrame на тренировочную и тестовую выборки в соотношении 70/30;\n",
    " \n",
    "2. Постройте модель машинного обучения с помощью алгоритма **KNeighborsClassifier** и подберите оптимальное колическтво соседей от 1 до 15;\n",
    " \n",
    "3. Оцените модель с помощью метрики **Precision** и постройте **ROC-кривую** для лучшей модели."
   ]
  },
  {
   "cell_type": "code",
   "execution_count": 1,
   "id": "c79e97d6",
   "metadata": {},
   "outputs": [],
   "source": [
    "from sklearn.datasets import load_breast_cancer as dataset"
   ]
  },
  {
   "cell_type": "code",
   "execution_count": 2,
   "id": "cfab0b2f",
   "metadata": {},
   "outputs": [],
   "source": [
    "import numpy as np\n",
    "import pandas as pd\n",
    "# from clf_utils import BlackBoxMethod, fetch_dataset # если есть доступ к файлу, раскомментить\n",
    "import matplotlib.pyplot as plt\n",
    "from sklearn.metrics import (accuracy_score, precision_score, recall_score,\n",
    "                             f1_score, roc_auc_score, roc_curve, auc,\n",
    "                             classification_report)\n",
    "from sklearn.model_selection import train_test_split\n"
   ]
  },
  {
   "cell_type": "code",
   "execution_count": 21,
   "id": "89b9f21e",
   "metadata": {},
   "outputs": [],
   "source": [
    "from sklearn.linear_model import LogisticRegression\n",
    "from sklearn.svm import SVC\n",
    "from sklearn.naive_bayes import GaussianNB\n",
    "from sklearn.neighbors import KNeighborsClassifier\n",
    "from sklearn.pipeline import make_pipeline\n",
    "from sklearn.preprocessing import StandardScaler\n",
    "from sklearn.metrics import RocCurveDisplay"
   ]
  },
  {
   "cell_type": "code",
   "execution_count": 16,
   "id": "3b0f24bc",
   "metadata": {},
   "outputs": [],
   "source": [
    "X = dataset()['data']"
   ]
  },
  {
   "cell_type": "code",
   "execution_count": 17,
   "id": "38760701",
   "metadata": {},
   "outputs": [],
   "source": [
    "y = dataset()['target']"
   ]
  },
  {
   "cell_type": "code",
   "execution_count": 20,
   "id": "f0ce9d09",
   "metadata": {},
   "outputs": [],
   "source": [
    "X_train, X_test, y_train, y_test = train_test_split(X, y, stratify=y, random_state=13)"
   ]
  },
  {
   "cell_type": "code",
   "execution_count": 22,
   "id": "b0f5e944",
   "metadata": {},
   "outputs": [],
   "source": [
    "model = KNeighborsClassifier()"
   ]
  },
  {
   "cell_type": "code",
   "execution_count": 24,
   "id": "cdb9cfce",
   "metadata": {},
   "outputs": [],
   "source": [
    "KNeighborsClassifier?"
   ]
  },
  {
   "cell_type": "code",
   "execution_count": 33,
   "id": "16ecadd4",
   "metadata": {},
   "outputs": [
    {
     "name": "stdout",
     "output_type": "stream",
     "text": [
      "[[0.967391304347826, 1], [0.9770114942528736, 2], [0.956989247311828, 3], [0.9888888888888889, 4], [0.978021978021978, 5], [0.978021978021978, 6], [0.967391304347826, 7], [0.967391304347826, 8], [0.967391304347826, 9], [0.967391304347826, 10], [0.967391304347826, 11], [0.967391304347826, 12], [0.967391304347826, 13], [0.967391304347826, 14], [0.956989247311828, 15]]\n"
     ]
    }
   ],
   "source": [
    "res = []\n",
    "for n in range(1, 16):\n",
    "    model = KNeighborsClassifier(n_neighbors=n)\n",
    "    pipeline = make_pipeline(StandardScaler(), model)\n",
    "    pipeline.fit(X_train, y_train)\n",
    "    y_pred = pipeline.predict(X_test)\n",
    "    res.append([precision_score(y_test, y_pred), n])\n",
    "print(res)"
   ]
  },
  {
   "cell_type": "code",
   "execution_count": 29,
   "id": "98d51f35",
   "metadata": {},
   "outputs": [],
   "source": []
  },
  {
   "cell_type": "code",
   "execution_count": null,
   "id": "021e9398",
   "metadata": {},
   "outputs": [],
   "source": [
    "(3, 4)."
   ]
  }
 ],
 "metadata": {
  "kernelspec": {
   "display_name": "Python 3 (ipykernel)",
   "language": "python",
   "name": "python3"
  },
  "language_info": {
   "codemirror_mode": {
    "name": "ipython",
    "version": 3
   },
   "file_extension": ".py",
   "mimetype": "text/x-python",
   "name": "python",
   "nbconvert_exporter": "python",
   "pygments_lexer": "ipython3",
   "version": "3.10.6"
  }
 },
 "nbformat": 4,
 "nbformat_minor": 5
}
