{
 "cells": [
  {
   "cell_type": "markdown",
   "metadata": {},
   "source": [
    "# Классификация"
   ]
  },
  {
   "cell_type": "markdown",
   "metadata": {},
   "source": [
    "## Utility code\n"
   ]
  },
  {
   "cell_type": "code",
   "execution_count": 1,
   "metadata": {},
   "outputs": [],
   "source": [
    "from sklearn.datasets import make_classification\n",
    "import numpy as np\n",
    "\n",
    "def fetch_dataset():\n",
    "    return make_classification(n_samples=1000, n_features=10,\n",
    "                               n_informative=5, n_classes=2,\n",
    "                               weights=[0.92, 0.08], flip_y=0.02,\n",
    "                               random_state=13)\n",
    "\n",
    "class BlackBoxMethod:\n",
    "    def __init__(self, label=0):\n",
    "        self.label = label\n",
    "    def fit(self, X, y):\n",
    "        return self\n",
    "    def predict(self, X):\n",
    "        n = X.shape[0]\n",
    "        if self.label == 1:\n",
    "            return np.ones(n, dtype=int)\n",
    "        else:\n",
    "            return np.zeros(n, dtype=int)\n",
    "    def predict_proba(self, X):\n",
    "        n = X.shape[0]\n",
    "        np.random.seed(13)\n",
    "        if self.label == 1:\n",
    "            return np.random.uniform(0.51, 0.99, size=n)\n",
    "        else:\n",
    "            return np.random.uniform(0.01, 0.49, size=n)"
   ]
  },
  {
   "cell_type": "markdown",
   "metadata": {},
   "source": [
    "## Импортируем необходимые библиотеки"
   ]
  },
  {
   "cell_type": "code",
   "execution_count": 2,
   "metadata": {},
   "outputs": [],
   "source": [
    "import numpy as np\n",
    "import pandas as pd\n",
    "# from clf_utils import BlackBoxMethod, fetch_dataset # если есть доступ к файлу, раскомментить\n",
    "import matplotlib.pyplot as plt\n",
    "from sklearn.metrics import (accuracy_score, precision_score, recall_score,\n",
    "                             f1_score, roc_auc_score, roc_curve, auc,\n",
    "                             classification_report)\n",
    "from sklearn.model_selection import train_test_split"
   ]
  },
  {
   "cell_type": "markdown",
   "metadata": {},
   "source": [
    "Воспользуемся заранее подготовленным файлом clf_utils, с его помощью сгенерируем датасет и инициализируем некоторую модель (что за модель, узнаем дальше)"
   ]
  },
  {
   "cell_type": "code",
   "execution_count": 3,
   "metadata": {},
   "outputs": [],
   "source": [
    "X, y = fetch_dataset()\n",
    "X_train, X_test, y_train, y_test = train_test_split(X, y, stratify=y, random_state=13)"
   ]
  },
  {
   "cell_type": "code",
   "execution_count": 4,
   "metadata": {},
   "outputs": [],
   "source": [
    "model = BlackBoxMethod()"
   ]
  },
  {
   "cell_type": "code",
   "execution_count": 5,
   "metadata": {},
   "outputs": [
    {
     "name": "stdout",
     "output_type": "stream",
     "text": [
      "0.912\n"
     ]
    }
   ],
   "source": [
    "model.fit(X_train, y_train)\n",
    "y_pred = model.predict(X_test)\n",
    "print(accuracy_score(y_test, y_pred))"
   ]
  },
  {
   "cell_type": "markdown",
   "metadata": {},
   "source": [
    "Получили вполне хорошую точность, но можно ли считать задачу выполненной? Давайте посмотрим на предсказания модели"
   ]
  },
  {
   "cell_type": "code",
   "execution_count": 6,
   "metadata": {},
   "outputs": [
    {
     "data": {
      "text/plain": [
       "(array([  0.,   0.,   0.,   0.,   0., 250.,   0.,   0.,   0.,   0.]),\n",
       " array([-0.5, -0.4, -0.3, -0.2, -0.1,  0. ,  0.1,  0.2,  0.3,  0.4,  0.5]),\n",
       " <BarContainer object of 10 artists>)"
      ]
     },
     "execution_count": 6,
     "metadata": {},
     "output_type": "execute_result"
    },
    {
     "data": {
      "image/png": "[encoded data removed]",
      "text/plain": [
       "<Figure size 432x288 with 1 Axes>"
      ]
     },
     "metadata": {
      "needs_background": "light"
     },
     "output_type": "display_data"
    }
   ],
   "source": [
    "plt.hist(y_pred)"
   ]
  },
  {
   "cell_type": "markdown",
   "metadata": {},
   "source": [
    "На самом деле модель всегда предсказывает лишь одно значение - ноль. Но почему же тогда получили хорошую точность?\n",
    "\n",
    "Давайте посмотрим на распределение меток в нашем датасете"
   ]
  },
  {
   "cell_type": "code",
   "execution_count": 7,
   "metadata": {},
   "outputs": [
    {
     "data": {
      "text/plain": [
       "<AxesSubplot:title={'center':'Count (target)'}>"
      ]
     },
     "execution_count": 7,
     "metadata": {},
     "output_type": "execute_result"
    },
    {
     "data": {
      "image/png": "[encoded data removed]",
      "text/plain": [
       "<Figure size 432x288 with 1 Axes>"
      ]
     },
     "metadata": {
      "needs_background": "light"
     },
     "output_type": "display_data"
    }
   ],
   "source": [
    "df = pd.DataFrame(X_train)\n",
    "df['target'] = y_train\n",
    "df.target.value_counts().plot(kind='bar', title='Count (target)', color = ['b', 'g'])"
   ]
  },
  {
   "cell_type": "markdown",
   "metadata": {},
   "source": [
    "Можем заметить, что имеется сильная несбалансированность классов. Давайте рассмотрим шаги, которые помогут нам работать с такими датасетами\n",
    "\n",
    "1. Использовать другие метрики. Как видим, метрика точность не является хорошим вариантом для задачи с сильно несбалансированными классами\n",
    "2. Использовать другой алгоритм, а не тот, что всегда предсказывает 0)\n",
    "3. Использовать методы для улучшения качества предсказания на несбалансированном датасете\n",
    "\n",
    "Пойдем по порядку"
   ]
  },
  {
   "cell_type": "markdown",
   "metadata": {},
   "source": [
    "## 1. Другие метрики"
   ]
  },
  {
   "cell_type": "markdown",
   "metadata": {},
   "source": [
    "Для начала введем обозначения:\n",
    "||Actual Positive|Actual Negative|\n",
    "|--|--|--|\n",
    "|Predicted Positive|True Positive (TP)|False Positive (FP)|\n",
    "|Predicted Negative|False Negative (FN)|True Negative (TN)|\n",
    "\n",
    "На основании введенных обозначений напишем формулы, по которым считаются метрики precision и recall\n",
    "$$\n",
    "    precision = \\frac{TP}{TP + FP}\n",
    "$$\n",
    "\n",
    "$$\n",
    "    recall = \\frac{TP}{TP + FN}\n",
    "$$\n",
    "\n",
    "\n",
    "Простыми словами precision - это то, какой процент меток, которые наш алгоритм признал положительными, на самом деле являются положительными; recall - это какой процент положительных меток наш алгоритм смог найти из всех положительных меток. Возможно, станет понятнее на картинке"
   ]
  },
  {
   "cell_type": "markdown",
   "metadata": {},
   "source": [
    "<img src=\"https://miro.medium.com/max/1400/1*r-7EeiYXYS_vjKhZV_ukyg.png\" width=1000/>"
   ]
  },
  {
   "cell_type": "markdown",
   "metadata": {},
   "source": [
    "Также есть метрика, которая объединяет в себе precision и recall, f1-score. Она является средним гармоническим между precision и recall\n",
    "$$\n",
    " F_1 = 2 \\frac{precision \\cdot recall}{precision + recall}\n",
    "$$\n",
    "\n",
    "Есть и общий случай этой метрики, $F_{\\beta}$-score, в которой с помощью параметра $\\beta$ можно контролировать, чему при усреднении придать больший вес, precision ($\\beta < 1$) или recall ($\\beta > 1$):\n",
    "\n",
    "$$\n",
    "F_{\\beta} = (1 + \\beta^2) \\frac{precision \\cdot recall}{(\\beta^2 \\cdot precision) + recall}\n",
    "$$\n",
    "\n",
    "Кроме того, часто используется ROC-кривая (Reciever Operating Characteristic). Это кривая в осях FPR (false positive rate), TPR (true positive rate). Для получения кривой пробегаются все возможные значения порога, с помощью которого происходит разделение на положительные и отрицательные метки, и затем полученные точки наносятся на график\n",
    "\n",
    "$$\n",
    "    FPR = \\frac{FP}{FP + TN}\n",
    "$$\n",
    "\n",
    "$$\n",
    "    TPR = \\frac{TP}{TP + FN}\n",
    "$$"
   ]
  },
  {
   "cell_type": "markdown",
   "metadata": {},
   "source": [
    "<img src=\"https://upload.wikimedia.org/wikipedia/commons/1/13/Roc_curve.svg\" width=400 height=400 />"
   ]
  },
  {
   "cell_type": "markdown",
   "metadata": {},
   "source": [
    "Чтобы привести эту метрику к числу, считают площадь под ROC-кривой. Эта метрика называется ROC-AUC"
   ]
  },
  {
   "cell_type": "markdown",
   "metadata": {},
   "source": [
    "Рассчитаем метрики для предыдущего метода"
   ]
  },
  {
   "cell_type": "code",
   "execution_count": 8,
   "metadata": {},
   "outputs": [
    {
     "name": "stdout",
     "output_type": "stream",
     "text": [
      "Precision: 0.0\n",
      "Recall: 0.0\n",
      "F1 score: 0.0\n"
     ]
    },
    {
     "name": "stderr",
     "output_type": "stream",
     "text": [
      "c:\\ProgramData\\Anaconda3\\lib\\site-packages\\sklearn\\metrics\\_classification.py:1245: UndefinedMetricWarning: Precision is ill-defined and being set to 0.0 due to no predicted samples. Use `zero_division` parameter to control this behavior.\n",
      "  _warn_prf(average, modifier, msg_start, len(result))\n"
     ]
    }
   ],
   "source": [
    "print('Precision:', precision_score(y_test, y_pred))\n",
    "print('Recall:', recall_score(y_test, y_pred))\n",
    "print('F1 score:', f1_score(y_test, y_pred))"
   ]
  },
  {
   "cell_type": "code",
   "execution_count": 9,
   "metadata": {},
   "outputs": [
    {
     "data": {
      "text/plain": [
       "<matplotlib.legend.Legend at 0x162e6914910>"
      ]
     },
     "execution_count": 9,
     "metadata": {},
     "output_type": "execute_result"
    },
    {
     "data": {
      "image/png": "[encoded data removed]",
      "text/plain": [
       "<Figure size 432x288 with 1 Axes>"
      ]
     },
     "metadata": {
      "needs_background": "light"
     },
     "output_type": "display_data"
    }
   ],
   "source": [
    "fpr, tpr, thresholds = roc_curve(y_test, model.predict_proba(X_test))\n",
    "plt.plot(fpr, tpr, color=\"darkorange\", label=f\"ROC curve (area = {auc(fpr, tpr):0.3f})\")\n",
    "plt.plot([0, 1], [0, 1], color=\"navy\", linestyle=\"--\")\n",
    "plt.legend()"
   ]
  },
  {
   "cell_type": "markdown",
   "metadata": {},
   "source": [
    "## 2. Другие алогоритмы"
   ]
  },
  {
   "cell_type": "markdown",
   "metadata": {},
   "source": [
    "Попробуем применить другие алгоритмы и посмотреть на результаты"
   ]
  },
  {
   "cell_type": "code",
   "execution_count": 10,
   "metadata": {},
   "outputs": [],
   "source": [
    "from sklearn.linear_model import LogisticRegression\n",
    "from sklearn.svm import SVC\n",
    "from sklearn.naive_bayes import GaussianNB\n",
    "from sklearn.neighbors import KNeighborsClassifier\n",
    "from sklearn.pipeline import make_pipeline\n",
    "from sklearn.preprocessing import StandardScaler\n",
    "from sklearn.metrics import RocCurveDisplay\n",
    "\n",
    "def try_model(model, X_train, y_train, X_test, y_test, model_params=None):\n",
    "    if model_params is None:\n",
    "        model_params = dict()\n",
    "    print(model.__name__)\n",
    "    pipeline = make_pipeline(StandardScaler(), model(**model_params))\n",
    "    pipeline.fit(X_train, y_train)\n",
    "    y_pred = pipeline.predict(X_test)\n",
    "    print('Accuracy:', accuracy_score(y_test, y_pred))\n",
    "    print('Precision:', precision_score(y_test, y_pred))\n",
    "    print('Recall:', recall_score(y_test, y_pred))\n",
    "    print('F1 score:', f1_score(y_test, y_pred))\n",
    "\n",
    "    fpr, tpr, thresholds = roc_curve(y_test, pipeline.predict_proba(X_test)[:, 1])\n",
    "    plt.plot(fpr, tpr, color=\"darkorange\", label=f\"ROC curve (area = {auc(fpr, tpr):0.3f})\")\n",
    "    plt.plot([0, 1], [0, 1], color=\"navy\", linestyle=\"--\")\n",
    "    plt.legend()\n",
    "\n",
    "    # for sklearn.__version__ of 1.0 and above\n",
    "    # display = RocCurveDisplay.from_estimator(pipeline, X_test, y_test)\n",
    "    # display.plot()\n",
    "    # plt.show()\n",
    "    return pipeline"
   ]
  },
  {
   "cell_type": "code",
   "execution_count": 11,
   "metadata": {},
   "outputs": [
    {
     "name": "stdout",
     "output_type": "stream",
     "text": [
      "LogisticRegression\n",
      "Accuracy: 0.908\n",
      "Precision: 0.0\n",
      "Recall: 0.0\n",
      "F1 score: 0.0\n"
     ]
    },
    {
     "data": {
      "text/plain": [
       "Pipeline(steps=[('standardscaler', StandardScaler()),\n",
       "                ('logisticregression', LogisticRegression())])"
      ]
     },
     "execution_count": 11,
     "metadata": {},
     "output_type": "execute_result"
    },
    {
     "data": {
      "image/png": "[encoded data removed]",
      "text/plain": [
       "<Figure size 432x288 with 1 Axes>"
      ]
     },
     "metadata": {
      "needs_background": "light"
     },
     "output_type": "display_data"
    }
   ],
   "source": [
    "try_model(LogisticRegression, X_train, y_train, X_test, y_test)"
   ]
  },
  {
   "cell_type": "code",
   "execution_count": 12,
   "metadata": {},
   "outputs": [
    {
     "name": "stdout",
     "output_type": "stream",
     "text": [
      "GaussianNB\n",
      "Accuracy: 0.884\n",
      "Precision: 0.1111111111111111\n",
      "Recall: 0.045454545454545456\n",
      "F1 score: 0.06451612903225805\n"
     ]
    },
    {
     "data": {
      "text/plain": [
       "Pipeline(steps=[('standardscaler', StandardScaler()),\n",
       "                ('gaussiannb', GaussianNB())])"
      ]
     },
     "execution_count": 12,
     "metadata": {},
     "output_type": "execute_result"
    },
    {
     "data": {
      "image/png": "[encoded data removed]",
      "text/plain": [
       "<Figure size 432x288 with 1 Axes>"
      ]
     },
     "metadata": {
      "needs_background": "light"
     },
     "output_type": "display_data"
    }
   ],
   "source": [
    "try_model(GaussianNB, X_train, y_train, X_test, y_test)"
   ]
  },
  {
   "cell_type": "code",
   "execution_count": 13,
   "metadata": {},
   "outputs": [
    {
     "name": "stdout",
     "output_type": "stream",
     "text": [
      "KNeighborsClassifier\n",
      "Accuracy: 0.928\n",
      "Precision: 0.8333333333333334\n",
      "Recall: 0.22727272727272727\n",
      "F1 score: 0.35714285714285715\n"
     ]
    },
    {
     "data": {
      "text/plain": [
       "Pipeline(steps=[('standardscaler', StandardScaler()),\n",
       "                ('kneighborsclassifier', KNeighborsClassifier())])"
      ]
     },
     "execution_count": 13,
     "metadata": {},
     "output_type": "execute_result"
    },
    {
     "data": {
      "image/png": "[encoded data removed]",
      "text/plain": [
       "<Figure size 432x288 with 1 Axes>"
      ]
     },
     "metadata": {
      "needs_background": "light"
     },
     "output_type": "display_data"
    }
   ],
   "source": [
    "try_model(KNeighborsClassifier, X_train, y_train, X_test, y_test)"
   ]
  },
  {
   "cell_type": "code",
   "execution_count": 14,
   "metadata": {},
   "outputs": [
    {
     "name": "stdout",
     "output_type": "stream",
     "text": [
      "SVC\n",
      "Accuracy: 0.912\n",
      "Precision: 0.0\n",
      "Recall: 0.0\n",
      "F1 score: 0.0\n"
     ]
    },
    {
     "name": "stderr",
     "output_type": "stream",
     "text": [
      "c:\\ProgramData\\Anaconda3\\lib\\site-packages\\sklearn\\metrics\\_classification.py:1245: UndefinedMetricWarning: Precision is ill-defined and being set to 0.0 due to no predicted samples. Use `zero_division` parameter to control this behavior.\n",
      "  _warn_prf(average, modifier, msg_start, len(result))\n"
     ]
    },
    {
     "data": {
      "text/plain": [
       "Pipeline(steps=[('standardscaler', StandardScaler()),\n",
       "                ('svc', SVC(kernel='linear', probability=True))])"
      ]
     },
     "execution_count": 14,
     "metadata": {},
     "output_type": "execute_result"
    },
    {
     "data": {
      "image/png": "[encoded data removed]",
      "text/plain": [
       "<Figure size 432x288 with 1 Axes>"
      ]
     },
     "metadata": {
      "needs_background": "light"
     },
     "output_type": "display_data"
    }
   ],
   "source": [
    "try_model(SVC, X_train, y_train, X_test, y_test,\n",
    "          model_params=dict(\n",
    "            kernel='linear',\n",
    "            probability=True,\n",
    "))"
   ]
  },
  {
   "cell_type": "markdown",
   "metadata": {},
   "source": [
    "## 3. Работа с несбалансированным датасетом"
   ]
  },
  {
   "cell_type": "markdown",
   "metadata": {},
   "source": [
    "Для решения проблемы несбалансированного датасета можно воспользоваться некоторыми способами. Некоторые из них:\n",
    "- Down-sampling - Уменьшение количества примеров большего класса с помощью выбрасивания части примеров (учитывая репрезентативность выборки)\n",
    "- Synthetic minority over-sampling technique (SMOTE) - Метод одновременного Up-sampling и Down-sampling. Для Up-sampling метод берет случайную точку меньшего класса, находит k ближайших соседей и выводит некоторое усреднение этих точек\n",
    "- Threshold - можно уменьшить (или увеличить) threshold от стандартных 0.5\n",
    "- Также можно давать объектам из меньшего класса больший вес в функции потерь, что заставит алгоритм обратить большее внимание на эти точки"
   ]
  },
  {
   "cell_type": "markdown",
   "metadata": {},
   "source": [
    "Для использования части из предложенных решений удобно использовать библиотеку imbalanced-learn\n",
    "\n",
    "Ниже вы можете выбрать команду для установки этой библиотеки (через Anaconda или через pip)"
   ]
  },
  {
   "cell_type": "code",
   "execution_count": 15,
   "metadata": {},
   "outputs": [],
   "source": [
    "# ! pip install -U imbalanced-learn\n",
    "# ! conda install -c conda-forge imbalanced-learn"
   ]
  },
  {
   "cell_type": "code",
   "execution_count": 16,
   "metadata": {},
   "outputs": [],
   "source": [
    "from imblearn.under_sampling import RandomUnderSampler\n",
    "from imblearn.over_sampling import SMOTE, RandomOverSampler"
   ]
  },
  {
   "cell_type": "markdown",
   "metadata": {},
   "source": [
    "### Down-sampling"
   ]
  },
  {
   "cell_type": "code",
   "execution_count": 17,
   "metadata": {},
   "outputs": [],
   "source": [
    "X_rus, y_rus = RandomUnderSampler().fit_sample(X_train, y_train)"
   ]
  },
  {
   "cell_type": "code",
   "execution_count": 18,
   "metadata": {},
   "outputs": [
    {
     "data": {
      "text/plain": [
       "<AxesSubplot:title={'center':'Count (target)'}>"
      ]
     },
     "execution_count": 18,
     "metadata": {},
     "output_type": "execute_result"
    },
    {
     "data": {
      "image/png": "[encoded data removed]",
      "text/plain": [
       "<Figure size 432x288 with 1 Axes>"
      ]
     },
     "metadata": {
      "needs_background": "light"
     },
     "output_type": "display_data"
    }
   ],
   "source": [
    "df = pd.DataFrame(X_rus)\n",
    "df['target'] = y_rus\n",
    "df.target.value_counts().plot(kind='bar', title='Count (target)', color = ['b', 'g'])"
   ]
  },
  {
   "cell_type": "code",
   "execution_count": 19,
   "metadata": {},
   "outputs": [
    {
     "name": "stdout",
     "output_type": "stream",
     "text": [
      "LogisticRegression\n",
      "Accuracy: 0.6\n",
      "Precision: 0.14545454545454545\n",
      "Recall: 0.7272727272727273\n",
      "F1 score: 0.2424242424242424\n"
     ]
    },
    {
     "data": {
      "text/plain": [
       "Pipeline(steps=[('standardscaler', StandardScaler()),\n",
       "                ('logisticregression', LogisticRegression())])"
      ]
     },
     "execution_count": 19,
     "metadata": {},
     "output_type": "execute_result"
    },
    {
     "data": {
      "image/png": "[encoded data removed]",
      "text/plain": [
       "<Figure size 432x288 with 1 Axes>"
      ]
     },
     "metadata": {
      "needs_background": "light"
     },
     "output_type": "display_data"
    }
   ],
   "source": [
    "try_model(LogisticRegression, X_rus, y_rus, X_test, y_test)"
   ]
  },
  {
   "cell_type": "markdown",
   "metadata": {},
   "source": [
    "### SMOTE"
   ]
  },
  {
   "cell_type": "code",
   "execution_count": 20,
   "metadata": {},
   "outputs": [
    {
     "name": "stdout",
     "output_type": "stream",
     "text": [
      "LogisticRegression\n",
      "Accuracy: 0.632\n",
      "Precision: 0.11956521739130435\n",
      "Recall: 0.5\n",
      "F1 score: 0.1929824561403509\n"
     ]
    },
    {
     "data": {
      "text/plain": [
       "Pipeline(steps=[('standardscaler', StandardScaler()),\n",
       "                ('logisticregression', LogisticRegression())])"
      ]
     },
     "execution_count": 20,
     "metadata": {},
     "output_type": "execute_result"
    },
    {
     "data": {
      "image/png": "[encoded data removed]",
      "text/plain": [
       "<Figure size 432x288 with 1 Axes>"
      ]
     },
     "metadata": {
      "needs_background": "light"
     },
     "output_type": "display_data"
    }
   ],
   "source": [
    "X_sm, y_sm = SMOTE().fit_sample(X_train, y_train)\n",
    "try_model(LogisticRegression, X_sm, y_sm, X_test, y_test)"
   ]
  },
  {
   "cell_type": "markdown",
   "metadata": {},
   "source": [
    "### Задание каждому классу своего веса"
   ]
  },
  {
   "cell_type": "markdown",
   "metadata": {},
   "source": [
    "Это можно сделать с помощью параметра class_weight (значение 'balanced' выставит веса, обратно пропорциональные частоте классов)"
   ]
  },
  {
   "cell_type": "code",
   "execution_count": 21,
   "metadata": {},
   "outputs": [
    {
     "name": "stdout",
     "output_type": "stream",
     "text": [
      "LogisticRegression\n",
      "Accuracy: 0.628\n",
      "Precision: 0.12631578947368421\n",
      "Recall: 0.5454545454545454\n",
      "F1 score: 0.20512820512820515\n"
     ]
    },
    {
     "data": {
      "text/plain": [
       "Pipeline(steps=[('standardscaler', StandardScaler()),\n",
       "                ('logisticregression',\n",
       "                 LogisticRegression(class_weight='balanced'))])"
      ]
     },
     "execution_count": 21,
     "metadata": {},
     "output_type": "execute_result"
    },
    {
     "data": {
      "image/png": "[encoded data removed]",
      "text/plain": [
       "<Figure size 432x288 with 1 Axes>"
      ]
     },
     "metadata": {
      "needs_background": "light"
     },
     "output_type": "display_data"
    }
   ],
   "source": [
    "try_model(LogisticRegression, X_train, y_train, X_test, y_test,\n",
    "          model_params=dict(\n",
    "            class_weight='balanced',\n",
    "))"
   ]
  },
  {
   "cell_type": "markdown",
   "metadata": {},
   "source": [
    "## Многоклассовая классификация"
   ]
  },
  {
   "cell_type": "markdown",
   "metadata": {},
   "source": [
    "Воспользуемся датасетом с ирисами, включенном в sklearn"
   ]
  },
  {
   "cell_type": "code",
   "execution_count": 32,
   "metadata": {},
   "outputs": [],
   "source": [
    "from sklearn.datasets import load_iris"
   ]
  },
  {
   "cell_type": "code",
   "execution_count": 33,
   "metadata": {},
   "outputs": [],
   "source": [
    "data = load_iris()\n",
    "X, y = data['data'], data['target']"
   ]
  },
  {
   "cell_type": "markdown",
   "metadata": {},
   "source": [
    "Посмотрим на распределение по классам"
   ]
  },
  {
   "cell_type": "code",
   "execution_count": 34,
   "metadata": {},
   "outputs": [
    {
     "data": {
      "text/plain": [
       "<AxesSubplot:title={'center':'Count (target)'}>"
      ]
     },
     "execution_count": 34,
     "metadata": {},
     "output_type": "execute_result"
    },
    {
     "data": {
      "image/png": "[encoded data removed]",
      "text/plain": [
       "<Figure size 432x288 with 1 Axes>"
      ]
     },
     "metadata": {
      "needs_background": "light"
     },
     "output_type": "display_data"
    }
   ],
   "source": [
    "df = pd.DataFrame(X)\n",
    "df['target'] = y\n",
    "df.target.value_counts().plot(kind='bar', title='Count (target)', color = ['b', 'g', 'r'])"
   ]
  },
  {
   "cell_type": "markdown",
   "metadata": {},
   "source": [
    "Разделим на train/test"
   ]
  },
  {
   "cell_type": "code",
   "execution_count": 35,
   "metadata": {},
   "outputs": [],
   "source": [
    "X_train, X_test, y_train, y_test = train_test_split(X, y, stratify=y, random_state=13)"
   ]
  },
  {
   "cell_type": "markdown",
   "metadata": {},
   "source": [
    "Прежде разберемся как оценивать качество моделей в мультиклассовой классификации"
   ]
  },
  {
   "cell_type": "markdown",
   "metadata": {},
   "source": [
    "### Метрики для мультиклассовой классификации"
   ]
  },
  {
   "cell_type": "markdown",
   "metadata": {},
   "source": [
    "Попробуем перенести метрики, которые мы обсуждали выше, на многоклассовый случай. Сначала для каждого класса y посчитаем следующие значения:\n",
    "\n",
    "||Actual y|Actual not y|\n",
    "|--|--|--|\n",
    "|Predicted y|True Positive ($TP_y$)|False Positive ($FP_y$)|\n",
    "|Predicted not y|False Negative ($FN_y$)|True Negative ($TN_y$)|\n",
    "\n",
    "Далее на примере метрик precision и recall покажем 2 вида усреднения"
   ]
  },
  {
   "cell_type": "markdown",
   "metadata": {},
   "source": [
    "#### Micro averaging"
   ]
  },
  {
   "cell_type": "markdown",
   "metadata": {},
   "source": [
    "$$\n",
    "precision = \\frac{\\sum_y TP_y}{\\sum_y (TP_y + FP_y)}\n",
    "$$\n",
    "\n",
    "\n",
    "$$\n",
    "recall = \\frac{\\sum_y TP_y}{\\sum_y (TP_y + FN_y)}\n",
    "$$"
   ]
  },
  {
   "cell_type": "markdown",
   "metadata": {},
   "source": [
    "#### Macro averaging"
   ]
  },
  {
   "cell_type": "markdown",
   "metadata": {},
   "source": [
    "$$\n",
    "precision = \\frac{1}{|Y|} \\sum_y \\frac{TP_y}{TP_y + FP_y}\n",
    "$$\n",
    "\n",
    "$$\n",
    "recall = \\frac{1}{|Y|} \\sum_y \\frac{TP_y}{TP_y + FN_y}\n",
    "$$"
   ]
  },
  {
   "cell_type": "markdown",
   "metadata": {},
   "source": [
    "Все другие метрики вычисляются аналогично. Выбор конкретного типа усреднения зависит от требований задачи"
   ]
  },
  {
   "cell_type": "markdown",
   "metadata": {},
   "source": [
    "### Стратегии для многоклассовой классификации"
   ]
  },
  {
   "cell_type": "markdown",
   "metadata": {},
   "source": [
    "Есть алгоритмы, которые нативно могут работать с многоклассовым случаем (например, деревья или наивный Байес). Однако модели наподобие логистической регрессии или SVM изначально рассматривают бинарную классификацию. Далее на примере этих алгоритмов рассмотрим стратегии для работы с мультиклассом"
   ]
  },
  {
   "cell_type": "markdown",
   "metadata": {},
   "source": [
    "#### One vs Rest (OVR)"
   ]
  },
  {
   "cell_type": "markdown",
   "metadata": {},
   "source": [
    "В случае one vs rest для M классов строим M моделей. Для каждой модели разделяем некоторый класс y (ставим ему метку 1) и все остальные классы (ставим любому другому классу метку 0). То есть фактически разделяем класс y против всех остальных. Для предсказания прогоняем вектор признаков через все модели и затем выбираем тот класс, для которого вероятность принадлежности к классу y была выше. Минусом данного подхода является несбалансированность классов внутри каждой из M моделей"
   ]
  },
  {
   "cell_type": "markdown",
   "metadata": {},
   "source": [
    "Рассмотрим, как можно реализовать One vs Rest на примере SVM"
   ]
  },
  {
   "cell_type": "code",
   "execution_count": 38,
   "metadata": {},
   "outputs": [
    {
     "name": "stdout",
     "output_type": "stream",
     "text": [
      "Accuracy: 1.0\n",
      "F1-score (macro): 1.0\n",
      "F1-score (micro): 1.0\n"
     ]
    }
   ],
   "source": [
    "from sklearn.multiclass import OneVsRestClassifier\n",
    "from sklearn.svm import LinearSVC\n",
    "\n",
    "pipe = make_pipeline(\n",
    "    StandardScaler(),\n",
    "    OneVsRestClassifier(LinearSVC())\n",
    ")\n",
    "pipe.fit(X_train, y_train)\n",
    "y_pred = pipe.predict(X_test)\n",
    "print('Accuracy:', accuracy_score(y_test, y_pred))\n",
    "print(\"F1-score (macro):\", f1_score(y_test, y_pred, average='macro'))\n",
    "print(\"F1-score (micro):\", f1_score(y_test, y_pred, average='micro'))"
   ]
  },
  {
   "cell_type": "markdown",
   "metadata": {},
   "source": [
    "У некоторых алгоритмов есть встроенная поддержка стратегий для многоклассовой классификации. Например, это есть и в SVM (смотрите документацию)"
   ]
  },
  {
   "cell_type": "code",
   "execution_count": 39,
   "metadata": {},
   "outputs": [
    {
     "name": "stdout",
     "output_type": "stream",
     "text": [
      "Accuracy: 1.0\n",
      "F1-score (macro): 1.0\n",
      "F1-score (micro): 1.0\n"
     ]
    }
   ],
   "source": [
    "pipe = make_pipeline(\n",
    "    StandardScaler(),\n",
    "    LinearSVC(multi_class='ovr')\n",
    ")\n",
    "pipe.fit(X_train, y_train)\n",
    "y_pred = pipe.predict(X_test)\n",
    "print('Accuracy:', accuracy_score(y_test, y_pred))\n",
    "print(\"F1-score (macro):\", f1_score(y_test, y_pred, average='macro'))\n",
    "print(\"F1-score (micro):\", f1_score(y_test, y_pred, average='micro'))"
   ]
  },
  {
   "cell_type": "markdown",
   "metadata": {},
   "source": [
    "#### One vs One (OVO)"
   ]
  },
  {
   "cell_type": "markdown",
   "metadata": {},
   "source": [
    "В этом подходе стоим $C_M^2$ моделей, которые попарно разделяют каждый класс с каждым. Для предсказания выбирается класс, за который больше всего \"голосов\". В этом подходе проблема в том, что число моделей растет квадратично с числом классов"
   ]
  },
  {
   "cell_type": "code",
   "execution_count": 40,
   "metadata": {},
   "outputs": [
    {
     "name": "stdout",
     "output_type": "stream",
     "text": [
      "Accuracy: 0.9736842105263158\n",
      "F1-score (macro): 0.9731615673644659\n",
      "F1-score (micro): 0.9736842105263158\n"
     ]
    }
   ],
   "source": [
    "from sklearn.multiclass import OneVsOneClassifier\n",
    "\n",
    "pipe = make_pipeline(\n",
    "    StandardScaler(),\n",
    "    OneVsOneClassifier(LinearSVC())\n",
    ")\n",
    "pipe.fit(X_train, y_train)\n",
    "y_pred = pipe.predict(X_test)\n",
    "print('Accuracy:', accuracy_score(y_test, y_pred))\n",
    "print(\"F1-score (macro):\", f1_score(y_test, y_pred, average='macro'))\n",
    "print(\"F1-score (micro):\", f1_score(y_test, y_pred, average='micro'))"
   ]
  },
  {
   "cell_type": "markdown",
   "metadata": {},
   "source": [
    "#### Multinomial в логистической регрессии"
   ]
  },
  {
   "cell_type": "markdown",
   "metadata": {},
   "source": [
    "Кратко вспомним, как устроена логистическая регрессия для случая бинарной классификации. Мы делаем линейное преобразование входных признаков и получаем число (логит), к которому потом применяем сигмоиду и обучаемся, стараясь минимизировать функцию потерь - бинарную кросс-энтропию. В случае M классов есть идея после линейного преобразования получать не одно число, а M чисел, к которым далее применять преобразования. Что же это за преобразование? Называется оно softmax:\n",
    "\n",
    "$$\n",
    "    softmax(z) = \\frac{exp(z_i)}{\\sum\\limits_{i=1}^M exp(z_i)}\n",
    "$$\n",
    "\n",
    "После применения функции softmax, получим вероятности принадлежности к классу. Обучаем модель, минимизируя кросс-энтропию\n"
   ]
  },
  {
   "cell_type": "code",
   "execution_count": 41,
   "metadata": {},
   "outputs": [
    {
     "name": "stdout",
     "output_type": "stream",
     "text": [
      "Accuracy: 1.0\n",
      "F1-score (macro): 1.0\n",
      "F1-score (micro): 1.0\n"
     ]
    }
   ],
   "source": [
    "pipe = make_pipeline(\n",
    "    StandardScaler(),\n",
    "    LogisticRegression(multi_class='multinomial')\n",
    ")\n",
    "pipe.fit(X_train, y_train)\n",
    "y_pred = pipe.predict(X_test)\n",
    "print('Accuracy:', accuracy_score(y_test, y_pred))\n",
    "print(\"F1-score (macro):\", f1_score(y_test, y_pred, average='macro'))\n",
    "print(\"F1-score (micro):\", f1_score(y_test, y_pred, average='micro'))"
   ]
  }
 ],
 "metadata": {
  "kernelspec": {
   "display_name": "Python 3 (ipykernel)",
   "language": "python",
   "name": "python3"
  },
  "language_info": {
   "codemirror_mode": {
    "name": "ipython",
    "version": 3
   },
   "file_extension": ".py",
   "mimetype": "text/x-python",
   "name": "python",
   "nbconvert_exporter": "python",
   "pygments_lexer": "ipython3",
   "version": "3.10.6"
  },
  "vscode": {
   "interpreter": {
    "hash": "ad2bdc8ecc057115af97d19610ffacc2b4e99fae6737bb82f5d7fb13d2f2c186"
   }
  }
 },
 "nbformat": 4,
 "nbformat_minor": 2
}
